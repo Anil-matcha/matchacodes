{
  "nbformat": 4,
  "nbformat_minor": 0,
  "metadata": {
    "colab": {
      "name": "DenseNet.ipynb",
      "version": "0.3.2",
      "provenance": [],
      "collapsed_sections": []
    },
    "kernelspec": {
      "name": "python3",
      "display_name": "Python 3"
    },
    "accelerator": "GPU"
  },
  "cells": [
    {
      "metadata": {
        "id": "Qieu9PBQJVPx",
        "colab_type": "code",
        "colab": {}
      },
      "cell_type": "code",
      "source": [
        "import tensorflow as tf\n",
        "from keras import backend as k\n",
        "\n",
        "# Don't pre-allocate memory; allocate as-needed\n",
        "config = tf.ConfigProto()\n",
        "config.gpu_options.allow_growth = True\n",
        "\n",
        "# Create a session with the above options specified.\n",
        "k.tensorflow_backend.set_session(tf.Session(config=config))"
      ],
      "execution_count": 0,
      "outputs": []
    },
    {
      "metadata": {
        "id": "YsRzd0Nkxi05",
        "colab_type": "code",
        "colab": {
          "base_uri": "https://localhost:8080/",
          "height": 67
        },
        "outputId": "a36546b6-a552-439a-d612-da99bb86ac3a"
      },
      "cell_type": "code",
      "source": [
        "import keras\n",
        "from keras.datasets import cifar10\n",
        "k = 12\n",
        "L = 20\n",
        "batch_size = 128\n",
        "num_epochs = 50\n",
        "num_classes = 10\n",
        "from keras.layers import Input, Dense, BatchNormalization, Activation, AveragePooling2D, Conv2D, Input, Flatten, concatenate\n",
        "from keras.models import Model\n",
        "(x_train, y_train), (x_test, y_test) = cifar10.load_data()\n",
        "y_train = keras.utils.to_categorical(y_train, num_classes)\n",
        "y_test = keras.utils.to_categorical(y_test, num_classes)\n",
        "print('x_train shape:', x_train.shape)\n",
        "print(x_train.shape[0], 'train samples')\n",
        "print(x_test.shape[0], 'test samples')"
      ],
      "execution_count": 95,
      "outputs": [
        {
          "output_type": "stream",
          "text": [
            "x_train shape: (50000, 32, 32, 3)\n",
            "50000 train samples\n",
            "10000 test samples\n"
          ],
          "name": "stdout"
        }
      ]
    },
    {
      "metadata": {
        "id": "b75crlu5yxW2",
        "colab_type": "code",
        "colab": {}
      },
      "cell_type": "code",
      "source": [
        "# Convert class vectors to binary class matrices.\n",
        "num_classes = 10\n",
        "y_train = keras.utils.to_categorical(y_train, num_classes)\n",
        "y_test = keras.utils.to_categorical(y_test, num_classes)\n"
      ],
      "execution_count": 0,
      "outputs": []
    },
    {
      "metadata": {
        "id": "DiNoin2L0bnG",
        "colab_type": "code",
        "colab": {}
      },
      "cell_type": "code",
      "source": [
        "# Dense Net Block\n",
        "def dense_net_model(inp):\n",
        "    temp = inp\n",
        "    for i in range(L):\n",
        "        bnorm_out = BatchNormalization(axis=1)(temp)\n",
        "        relu_out = Activation('relu')(bnorm_out)\n",
        "        conv_out = Conv2D(k, (3, 3), padding='same')(relu_out)\n",
        "        temp = concatenate([temp, conv_out], axis=-1)\n",
        "    print(temp.shape)    \n",
        "    return temp\n",
        "        "
      ],
      "execution_count": 0,
      "outputs": []
    },
    {
      "metadata": {
        "id": "EBqkkjfc5cLA",
        "colab_type": "code",
        "colab": {}
      },
      "cell_type": "code",
      "source": [
        "#Transition Block\n",
        "def transition_model(inp, channels):\n",
        "  bnorm_out = BatchNormalization(axis=1)(inp)\n",
        "  conv_out = Conv2D(channels, (1, 1), padding='same')(bnorm_out)\n",
        "  avg_out = AveragePooling2D(pool_size=(2, 2))(conv_out)\n",
        "  print(avg_out.shape)    \n",
        "  return avg_out"
      ],
      "execution_count": 0,
      "outputs": []
    },
    {
      "metadata": {
        "id": "RGkTK0dl-gvl",
        "colab_type": "code",
        "colab": {}
      },
      "cell_type": "code",
      "source": [
        "def create_full_model(inputShape):\n",
        "  input_img = Input(shape=inputShape)\n",
        "  start = Conv2D(16, (7, 7), padding='same')(input_img)\n",
        "  print(start.shape)\n",
        "  dense_out = dense_net_model(start)\n",
        "  trans_out = transition_model(dense_out, 56)\n",
        "  dense_out = dense_net_model(trans_out)\n",
        "  trans_out = transition_model(dense_out, 28)\n",
        "  dense_out = dense_net_model(trans_out)\n",
        "  bnorm_out = BatchNormalization(axis=1)(dense_out)\n",
        "  relu_out = Activation('relu')(bnorm_out)\n",
        "  avg_out = AveragePooling2D(pool_size=(3, 3))(relu_out)\n",
        "  flatten = Flatten()(avg_out)\n",
        "  out = Dense(10, activation = 'softmax', name='fc')(flatten)\n",
        "  return Model(input_img, out)"
      ],
      "execution_count": 0,
      "outputs": []
    },
    {
      "metadata": {
        "id": "3vuhcddwDYZ1",
        "colab_type": "code",
        "colab": {
          "base_uri": "https://localhost:8080/",
          "height": 2937
        },
        "outputId": "760a9f5c-fe6d-43dd-e937-9959bafbf1aa"
      },
      "cell_type": "code",
      "source": [
        "from keras.optimizers import SGD\n",
        "model = create_full_model(x_train[0].shape)\n",
        "sgd = SGD(lr=0.01, decay=1e-6, momentum=0.9, nesterov=True)\n",
        "model.compile(loss='categorical_crossentropy',\n",
        "              optimizer=sgd,\n",
        "              metrics=['accuracy'])\n",
        "model.fit(x_train, y_train,\n",
        "              batch_size=batch_size,\n",
        "              epochs=num_epochs,\n",
        "              validation_data=(x_test, y_test),\n",
        "              shuffle=True)"
      ],
      "execution_count": 96,
      "outputs": [
        {
          "output_type": "stream",
          "text": [
            "(?, 32, 32, 16)\n",
            "(?, 32, 32, 256)\n",
            "(?, 16, 16, 56)\n",
            "(?, 16, 16, 296)\n",
            "(?, 8, 8, 28)\n",
            "(?, 8, 8, 268)\n",
            "fs (?, ?)\n",
            "os (?, 10)\n",
            "Train on 50000 samples, validate on 10000 samples\n",
            "Epoch 1/50\n",
            "50000/50000 [==============================] - 534s 11ms/step - loss: 1.8258 - acc: 0.3350 - val_loss: 1.4841 - val_acc: 0.4736\n",
            "Epoch 2/50\n",
            "50000/50000 [==============================] - 494s 10ms/step - loss: 1.3654 - acc: 0.5077 - val_loss: 1.2462 - val_acc: 0.5551\n",
            "Epoch 3/50\n",
            "50000/50000 [==============================] - 494s 10ms/step - loss: 1.1779 - acc: 0.5793 - val_loss: 1.1430 - val_acc: 0.5910\n",
            "Epoch 4/50\n",
            "50000/50000 [==============================] - 493s 10ms/step - loss: 1.0357 - acc: 0.6339 - val_loss: 1.0200 - val_acc: 0.6352\n",
            "Epoch 5/50\n",
            "50000/50000 [==============================] - 494s 10ms/step - loss: 0.9213 - acc: 0.6761 - val_loss: 0.9187 - val_acc: 0.6755\n",
            "Epoch 6/50\n",
            "50000/50000 [==============================] - 493s 10ms/step - loss: 0.8230 - acc: 0.7115 - val_loss: 0.9515 - val_acc: 0.6697\n",
            "Epoch 7/50\n",
            "50000/50000 [==============================] - 493s 10ms/step - loss: 0.7478 - acc: 0.7358 - val_loss: 0.9177 - val_acc: 0.6886\n",
            "Epoch 8/50\n",
            "50000/50000 [==============================] - 494s 10ms/step - loss: 0.6848 - acc: 0.7609 - val_loss: 0.8290 - val_acc: 0.7224\n",
            "Epoch 9/50\n",
            "50000/50000 [==============================] - 494s 10ms/step - loss: 0.6284 - acc: 0.7823 - val_loss: 0.8103 - val_acc: 0.7225\n",
            "Epoch 10/50\n",
            "50000/50000 [==============================] - 494s 10ms/step - loss: 0.5711 - acc: 0.8008 - val_loss: 0.8859 - val_acc: 0.7109\n",
            "Epoch 11/50\n",
            "50000/50000 [==============================] - 494s 10ms/step - loss: 0.5248 - acc: 0.8152 - val_loss: 0.8396 - val_acc: 0.7234\n",
            "Epoch 12/50\n",
            "50000/50000 [==============================] - 494s 10ms/step - loss: 0.4778 - acc: 0.8313 - val_loss: 0.8369 - val_acc: 0.7251\n",
            "Epoch 13/50\n",
            "50000/50000 [==============================] - 493s 10ms/step - loss: 0.4366 - acc: 0.8456 - val_loss: 0.8131 - val_acc: 0.7345\n",
            "Epoch 14/50\n",
            "50000/50000 [==============================] - 493s 10ms/step - loss: 0.3967 - acc: 0.8607 - val_loss: 0.8285 - val_acc: 0.7455\n",
            "Epoch 15/50\n",
            "50000/50000 [==============================] - 493s 10ms/step - loss: 0.3581 - acc: 0.8744 - val_loss: 0.8156 - val_acc: 0.7501\n",
            "Epoch 16/50\n",
            "50000/50000 [==============================] - 494s 10ms/step - loss: 0.3147 - acc: 0.8904 - val_loss: 0.8392 - val_acc: 0.7496\n",
            "Epoch 17/50\n",
            "50000/50000 [==============================] - 494s 10ms/step - loss: 0.2842 - acc: 0.8998 - val_loss: 0.8866 - val_acc: 0.7477\n",
            "Epoch 18/50\n",
            "50000/50000 [==============================] - 493s 10ms/step - loss: 0.2451 - acc: 0.9128 - val_loss: 0.8821 - val_acc: 0.7426\n",
            "Epoch 19/50\n",
            "50000/50000 [==============================] - 494s 10ms/step - loss: 0.2128 - acc: 0.9258 - val_loss: 0.8895 - val_acc: 0.7564\n",
            "Epoch 20/50\n",
            "50000/50000 [==============================] - 494s 10ms/step - loss: 0.1849 - acc: 0.9361 - val_loss: 0.9521 - val_acc: 0.7521\n",
            "Epoch 21/50\n",
            "50000/50000 [==============================] - 493s 10ms/step - loss: 0.1538 - acc: 0.9471 - val_loss: 0.9730 - val_acc: 0.7510\n",
            "Epoch 22/50\n",
            "50000/50000 [==============================] - 493s 10ms/step - loss: 0.1441 - acc: 0.9495 - val_loss: 1.0822 - val_acc: 0.7420\n",
            "Epoch 23/50\n",
            "50000/50000 [==============================] - 493s 10ms/step - loss: 0.1213 - acc: 0.9578 - val_loss: 1.1271 - val_acc: 0.7430\n",
            "Epoch 24/50\n",
            "50000/50000 [==============================] - 493s 10ms/step - loss: 0.1026 - acc: 0.9652 - val_loss: 1.0972 - val_acc: 0.7520\n",
            "Epoch 25/50\n",
            "50000/50000 [==============================] - 493s 10ms/step - loss: 0.0946 - acc: 0.9669 - val_loss: 1.1373 - val_acc: 0.7539\n",
            "Epoch 26/50\n",
            "50000/50000 [==============================] - 493s 10ms/step - loss: 0.0835 - acc: 0.9718 - val_loss: 1.0965 - val_acc: 0.7560\n",
            "Epoch 27/50\n",
            "50000/50000 [==============================] - 493s 10ms/step - loss: 0.0605 - acc: 0.9800 - val_loss: 1.1833 - val_acc: 0.7579\n",
            "Epoch 28/50\n",
            "50000/50000 [==============================] - 493s 10ms/step - loss: 0.0683 - acc: 0.9767 - val_loss: 1.3123 - val_acc: 0.7376\n",
            "Epoch 29/50\n",
            "50000/50000 [==============================] - 493s 10ms/step - loss: 0.0693 - acc: 0.9756 - val_loss: 1.2658 - val_acc: 0.7487\n",
            "Epoch 30/50\n",
            "50000/50000 [==============================] - 494s 10ms/step - loss: 0.0552 - acc: 0.9817 - val_loss: 1.2539 - val_acc: 0.7472\n",
            "Epoch 31/50\n",
            "50000/50000 [==============================] - 494s 10ms/step - loss: 0.0441 - acc: 0.9853 - val_loss: 1.3005 - val_acc: 0.7509\n",
            "Epoch 32/50\n",
            "50000/50000 [==============================] - 494s 10ms/step - loss: 0.0392 - acc: 0.9875 - val_loss: 1.2820 - val_acc: 0.7600\n",
            "Epoch 33/50\n",
            "50000/50000 [==============================] - 494s 10ms/step - loss: 0.0210 - acc: 0.9938 - val_loss: 1.3471 - val_acc: 0.7620\n",
            "Epoch 34/50\n",
            "50000/50000 [==============================] - 494s 10ms/step - loss: 0.0187 - acc: 0.9949 - val_loss: 1.3379 - val_acc: 0.7691\n",
            "Epoch 35/50\n",
            "50000/50000 [==============================] - 494s 10ms/step - loss: 0.0163 - acc: 0.9955 - val_loss: 1.3154 - val_acc: 0.7649\n",
            "Epoch 36/50\n",
            "50000/50000 [==============================] - 494s 10ms/step - loss: 0.0113 - acc: 0.9972 - val_loss: 1.3404 - val_acc: 0.7697\n",
            "Epoch 37/50\n",
            "50000/50000 [==============================] - 494s 10ms/step - loss: 0.0022 - acc: 0.9999 - val_loss: 1.3518 - val_acc: 0.7760\n",
            "Epoch 38/50\n",
            "50000/50000 [==============================] - 494s 10ms/step - loss: 7.0079e-04 - acc: 1.0000 - val_loss: 1.3706 - val_acc: 0.7754\n",
            "Epoch 39/50\n",
            "50000/50000 [==============================] - 493s 10ms/step - loss: 4.6181e-04 - acc: 1.0000 - val_loss: 1.3842 - val_acc: 0.7754\n",
            "Epoch 40/50\n",
            "50000/50000 [==============================] - 493s 10ms/step - loss: 3.8050e-04 - acc: 1.0000 - val_loss: 1.3983 - val_acc: 0.7756\n",
            "Epoch 41/50\n",
            "50000/50000 [==============================] - 492s 10ms/step - loss: 3.2804e-04 - acc: 1.0000 - val_loss: 1.4062 - val_acc: 0.7753\n",
            "Epoch 42/50\n",
            "50000/50000 [==============================] - 492s 10ms/step - loss: 2.9843e-04 - acc: 1.0000 - val_loss: 1.4181 - val_acc: 0.7760\n",
            "Epoch 43/50\n",
            "50000/50000 [==============================] - 492s 10ms/step - loss: 2.7309e-04 - acc: 1.0000 - val_loss: 1.4227 - val_acc: 0.7753\n",
            "Epoch 44/50\n",
            "50000/50000 [==============================] - 493s 10ms/step - loss: 2.5052e-04 - acc: 1.0000 - val_loss: 1.4321 - val_acc: 0.7770\n",
            "Epoch 45/50\n",
            "35328/50000 [====================>.........] - ETA: 2:11 - loss: 2.3107e-04 - acc: 1.0000"
          ],
          "name": "stdout"
        },
        {
          "output_type": "error",
          "ename": "KeyboardInterrupt",
          "evalue": "ignored",
          "traceback": [
            "\u001b[0;31m---------------------------------------------------------------------------\u001b[0m",
            "\u001b[0;31mKeyboardInterrupt\u001b[0m                         Traceback (most recent call last)",
            "\u001b[0;32m<ipython-input-96-24ccfa565b4a>\u001b[0m in \u001b[0;36m<module>\u001b[0;34m()\u001b[0m\n\u001b[1;32m      9\u001b[0m               \u001b[0mepochs\u001b[0m\u001b[0;34m=\u001b[0m\u001b[0mnum_epochs\u001b[0m\u001b[0;34m,\u001b[0m\u001b[0;34m\u001b[0m\u001b[0m\n\u001b[1;32m     10\u001b[0m               \u001b[0mvalidation_data\u001b[0m\u001b[0;34m=\u001b[0m\u001b[0;34m(\u001b[0m\u001b[0mx_test\u001b[0m\u001b[0;34m,\u001b[0m \u001b[0my_test\u001b[0m\u001b[0;34m)\u001b[0m\u001b[0;34m,\u001b[0m\u001b[0;34m\u001b[0m\u001b[0m\n\u001b[0;32m---> 11\u001b[0;31m               shuffle=True)\n\u001b[0m",
            "\u001b[0;32m/usr/local/lib/python3.6/dist-packages/keras/engine/training.py\u001b[0m in \u001b[0;36mfit\u001b[0;34m(self, x, y, batch_size, epochs, verbose, callbacks, validation_split, validation_data, shuffle, class_weight, sample_weight, initial_epoch, steps_per_epoch, validation_steps, **kwargs)\u001b[0m\n\u001b[1;32m   1703\u001b[0m                               \u001b[0minitial_epoch\u001b[0m\u001b[0;34m=\u001b[0m\u001b[0minitial_epoch\u001b[0m\u001b[0;34m,\u001b[0m\u001b[0;34m\u001b[0m\u001b[0m\n\u001b[1;32m   1704\u001b[0m                               \u001b[0msteps_per_epoch\u001b[0m\u001b[0;34m=\u001b[0m\u001b[0msteps_per_epoch\u001b[0m\u001b[0;34m,\u001b[0m\u001b[0;34m\u001b[0m\u001b[0m\n\u001b[0;32m-> 1705\u001b[0;31m                               validation_steps=validation_steps)\n\u001b[0m\u001b[1;32m   1706\u001b[0m \u001b[0;34m\u001b[0m\u001b[0m\n\u001b[1;32m   1707\u001b[0m     def evaluate(self, x=None, y=None,\n",
            "\u001b[0;32m/usr/local/lib/python3.6/dist-packages/keras/engine/training.py\u001b[0m in \u001b[0;36m_fit_loop\u001b[0;34m(self, f, ins, out_labels, batch_size, epochs, verbose, callbacks, val_f, val_ins, shuffle, callback_metrics, initial_epoch, steps_per_epoch, validation_steps)\u001b[0m\n\u001b[1;32m   1234\u001b[0m                         \u001b[0mins_batch\u001b[0m\u001b[0;34m[\u001b[0m\u001b[0mi\u001b[0m\u001b[0;34m]\u001b[0m \u001b[0;34m=\u001b[0m \u001b[0mins_batch\u001b[0m\u001b[0;34m[\u001b[0m\u001b[0mi\u001b[0m\u001b[0;34m]\u001b[0m\u001b[0;34m.\u001b[0m\u001b[0mtoarray\u001b[0m\u001b[0;34m(\u001b[0m\u001b[0;34m)\u001b[0m\u001b[0;34m\u001b[0m\u001b[0m\n\u001b[1;32m   1235\u001b[0m \u001b[0;34m\u001b[0m\u001b[0m\n\u001b[0;32m-> 1236\u001b[0;31m                     \u001b[0mouts\u001b[0m \u001b[0;34m=\u001b[0m \u001b[0mf\u001b[0m\u001b[0;34m(\u001b[0m\u001b[0mins_batch\u001b[0m\u001b[0;34m)\u001b[0m\u001b[0;34m\u001b[0m\u001b[0m\n\u001b[0m\u001b[1;32m   1237\u001b[0m                     \u001b[0;32mif\u001b[0m \u001b[0;32mnot\u001b[0m \u001b[0misinstance\u001b[0m\u001b[0;34m(\u001b[0m\u001b[0mouts\u001b[0m\u001b[0;34m,\u001b[0m \u001b[0mlist\u001b[0m\u001b[0;34m)\u001b[0m\u001b[0;34m:\u001b[0m\u001b[0;34m\u001b[0m\u001b[0m\n\u001b[1;32m   1238\u001b[0m                         \u001b[0mouts\u001b[0m \u001b[0;34m=\u001b[0m \u001b[0;34m[\u001b[0m\u001b[0mouts\u001b[0m\u001b[0;34m]\u001b[0m\u001b[0;34m\u001b[0m\u001b[0m\n",
            "\u001b[0;32m/usr/local/lib/python3.6/dist-packages/keras/backend/tensorflow_backend.py\u001b[0m in \u001b[0;36m__call__\u001b[0;34m(self, inputs)\u001b[0m\n\u001b[1;32m   2480\u001b[0m         \u001b[0msession\u001b[0m \u001b[0;34m=\u001b[0m \u001b[0mget_session\u001b[0m\u001b[0;34m(\u001b[0m\u001b[0;34m)\u001b[0m\u001b[0;34m\u001b[0m\u001b[0m\n\u001b[1;32m   2481\u001b[0m         updated = session.run(fetches=fetches, feed_dict=feed_dict,\n\u001b[0;32m-> 2482\u001b[0;31m                               **self.session_kwargs)\n\u001b[0m\u001b[1;32m   2483\u001b[0m         \u001b[0;32mreturn\u001b[0m \u001b[0mupdated\u001b[0m\u001b[0;34m[\u001b[0m\u001b[0;34m:\u001b[0m\u001b[0mlen\u001b[0m\u001b[0;34m(\u001b[0m\u001b[0mself\u001b[0m\u001b[0;34m.\u001b[0m\u001b[0moutputs\u001b[0m\u001b[0;34m)\u001b[0m\u001b[0;34m]\u001b[0m\u001b[0;34m\u001b[0m\u001b[0m\n\u001b[1;32m   2484\u001b[0m \u001b[0;34m\u001b[0m\u001b[0m\n",
            "\u001b[0;32m/usr/local/lib/python3.6/dist-packages/tensorflow/python/client/session.py\u001b[0m in \u001b[0;36mrun\u001b[0;34m(self, fetches, feed_dict, options, run_metadata)\u001b[0m\n\u001b[1;32m    875\u001b[0m     \u001b[0;32mtry\u001b[0m\u001b[0;34m:\u001b[0m\u001b[0;34m\u001b[0m\u001b[0m\n\u001b[1;32m    876\u001b[0m       result = self._run(None, fetches, feed_dict, options_ptr,\n\u001b[0;32m--> 877\u001b[0;31m                          run_metadata_ptr)\n\u001b[0m\u001b[1;32m    878\u001b[0m       \u001b[0;32mif\u001b[0m \u001b[0mrun_metadata\u001b[0m\u001b[0;34m:\u001b[0m\u001b[0;34m\u001b[0m\u001b[0m\n\u001b[1;32m    879\u001b[0m         \u001b[0mproto_data\u001b[0m \u001b[0;34m=\u001b[0m \u001b[0mtf_session\u001b[0m\u001b[0;34m.\u001b[0m\u001b[0mTF_GetBuffer\u001b[0m\u001b[0;34m(\u001b[0m\u001b[0mrun_metadata_ptr\u001b[0m\u001b[0;34m)\u001b[0m\u001b[0;34m\u001b[0m\u001b[0m\n",
            "\u001b[0;32m/usr/local/lib/python3.6/dist-packages/tensorflow/python/client/session.py\u001b[0m in \u001b[0;36m_run\u001b[0;34m(self, handle, fetches, feed_dict, options, run_metadata)\u001b[0m\n\u001b[1;32m   1098\u001b[0m     \u001b[0;32mif\u001b[0m \u001b[0mfinal_fetches\u001b[0m \u001b[0;32mor\u001b[0m \u001b[0mfinal_targets\u001b[0m \u001b[0;32mor\u001b[0m \u001b[0;34m(\u001b[0m\u001b[0mhandle\u001b[0m \u001b[0;32mand\u001b[0m \u001b[0mfeed_dict_tensor\u001b[0m\u001b[0;34m)\u001b[0m\u001b[0;34m:\u001b[0m\u001b[0;34m\u001b[0m\u001b[0m\n\u001b[1;32m   1099\u001b[0m       results = self._do_run(handle, final_targets, final_fetches,\n\u001b[0;32m-> 1100\u001b[0;31m                              feed_dict_tensor, options, run_metadata)\n\u001b[0m\u001b[1;32m   1101\u001b[0m     \u001b[0;32melse\u001b[0m\u001b[0;34m:\u001b[0m\u001b[0;34m\u001b[0m\u001b[0m\n\u001b[1;32m   1102\u001b[0m       \u001b[0mresults\u001b[0m \u001b[0;34m=\u001b[0m \u001b[0;34m[\u001b[0m\u001b[0;34m]\u001b[0m\u001b[0;34m\u001b[0m\u001b[0m\n",
            "\u001b[0;32m/usr/local/lib/python3.6/dist-packages/tensorflow/python/client/session.py\u001b[0m in \u001b[0;36m_do_run\u001b[0;34m(self, handle, target_list, fetch_list, feed_dict, options, run_metadata)\u001b[0m\n\u001b[1;32m   1270\u001b[0m     \u001b[0;32mif\u001b[0m \u001b[0mhandle\u001b[0m \u001b[0;32mis\u001b[0m \u001b[0;32mNone\u001b[0m\u001b[0;34m:\u001b[0m\u001b[0;34m\u001b[0m\u001b[0m\n\u001b[1;32m   1271\u001b[0m       return self._do_call(_run_fn, feeds, fetches, targets, options,\n\u001b[0;32m-> 1272\u001b[0;31m                            run_metadata)\n\u001b[0m\u001b[1;32m   1273\u001b[0m     \u001b[0;32melse\u001b[0m\u001b[0;34m:\u001b[0m\u001b[0;34m\u001b[0m\u001b[0m\n\u001b[1;32m   1274\u001b[0m       \u001b[0;32mreturn\u001b[0m \u001b[0mself\u001b[0m\u001b[0;34m.\u001b[0m\u001b[0m_do_call\u001b[0m\u001b[0;34m(\u001b[0m\u001b[0m_prun_fn\u001b[0m\u001b[0;34m,\u001b[0m \u001b[0mhandle\u001b[0m\u001b[0;34m,\u001b[0m \u001b[0mfeeds\u001b[0m\u001b[0;34m,\u001b[0m \u001b[0mfetches\u001b[0m\u001b[0;34m)\u001b[0m\u001b[0;34m\u001b[0m\u001b[0m\n",
            "\u001b[0;32m/usr/local/lib/python3.6/dist-packages/tensorflow/python/client/session.py\u001b[0m in \u001b[0;36m_do_call\u001b[0;34m(self, fn, *args)\u001b[0m\n\u001b[1;32m   1276\u001b[0m   \u001b[0;32mdef\u001b[0m \u001b[0m_do_call\u001b[0m\u001b[0;34m(\u001b[0m\u001b[0mself\u001b[0m\u001b[0;34m,\u001b[0m \u001b[0mfn\u001b[0m\u001b[0;34m,\u001b[0m \u001b[0;34m*\u001b[0m\u001b[0margs\u001b[0m\u001b[0;34m)\u001b[0m\u001b[0;34m:\u001b[0m\u001b[0;34m\u001b[0m\u001b[0m\n\u001b[1;32m   1277\u001b[0m     \u001b[0;32mtry\u001b[0m\u001b[0;34m:\u001b[0m\u001b[0;34m\u001b[0m\u001b[0m\n\u001b[0;32m-> 1278\u001b[0;31m       \u001b[0;32mreturn\u001b[0m \u001b[0mfn\u001b[0m\u001b[0;34m(\u001b[0m\u001b[0;34m*\u001b[0m\u001b[0margs\u001b[0m\u001b[0;34m)\u001b[0m\u001b[0;34m\u001b[0m\u001b[0m\n\u001b[0m\u001b[1;32m   1279\u001b[0m     \u001b[0;32mexcept\u001b[0m \u001b[0merrors\u001b[0m\u001b[0;34m.\u001b[0m\u001b[0mOpError\u001b[0m \u001b[0;32mas\u001b[0m \u001b[0me\u001b[0m\u001b[0;34m:\u001b[0m\u001b[0;34m\u001b[0m\u001b[0m\n\u001b[1;32m   1280\u001b[0m       \u001b[0mmessage\u001b[0m \u001b[0;34m=\u001b[0m \u001b[0mcompat\u001b[0m\u001b[0;34m.\u001b[0m\u001b[0mas_text\u001b[0m\u001b[0;34m(\u001b[0m\u001b[0me\u001b[0m\u001b[0;34m.\u001b[0m\u001b[0mmessage\u001b[0m\u001b[0;34m)\u001b[0m\u001b[0;34m\u001b[0m\u001b[0m\n",
            "\u001b[0;32m/usr/local/lib/python3.6/dist-packages/tensorflow/python/client/session.py\u001b[0m in \u001b[0;36m_run_fn\u001b[0;34m(feed_dict, fetch_list, target_list, options, run_metadata)\u001b[0m\n\u001b[1;32m   1261\u001b[0m       \u001b[0mself\u001b[0m\u001b[0;34m.\u001b[0m\u001b[0m_extend_graph\u001b[0m\u001b[0;34m(\u001b[0m\u001b[0;34m)\u001b[0m\u001b[0;34m\u001b[0m\u001b[0m\n\u001b[1;32m   1262\u001b[0m       return self._call_tf_sessionrun(\n\u001b[0;32m-> 1263\u001b[0;31m           options, feed_dict, fetch_list, target_list, run_metadata)\n\u001b[0m\u001b[1;32m   1264\u001b[0m \u001b[0;34m\u001b[0m\u001b[0m\n\u001b[1;32m   1265\u001b[0m     \u001b[0;32mdef\u001b[0m \u001b[0m_prun_fn\u001b[0m\u001b[0;34m(\u001b[0m\u001b[0mhandle\u001b[0m\u001b[0;34m,\u001b[0m \u001b[0mfeed_dict\u001b[0m\u001b[0;34m,\u001b[0m \u001b[0mfetch_list\u001b[0m\u001b[0;34m)\u001b[0m\u001b[0;34m:\u001b[0m\u001b[0;34m\u001b[0m\u001b[0m\n",
            "\u001b[0;32m/usr/local/lib/python3.6/dist-packages/tensorflow/python/client/session.py\u001b[0m in \u001b[0;36m_call_tf_sessionrun\u001b[0;34m(self, options, feed_dict, fetch_list, target_list, run_metadata)\u001b[0m\n\u001b[1;32m   1348\u001b[0m     return tf_session.TF_SessionRun_wrapper(\n\u001b[1;32m   1349\u001b[0m         \u001b[0mself\u001b[0m\u001b[0;34m.\u001b[0m\u001b[0m_session\u001b[0m\u001b[0;34m,\u001b[0m \u001b[0moptions\u001b[0m\u001b[0;34m,\u001b[0m \u001b[0mfeed_dict\u001b[0m\u001b[0;34m,\u001b[0m \u001b[0mfetch_list\u001b[0m\u001b[0;34m,\u001b[0m \u001b[0mtarget_list\u001b[0m\u001b[0;34m,\u001b[0m\u001b[0;34m\u001b[0m\u001b[0m\n\u001b[0;32m-> 1350\u001b[0;31m         run_metadata)\n\u001b[0m\u001b[1;32m   1351\u001b[0m \u001b[0;34m\u001b[0m\u001b[0m\n\u001b[1;32m   1352\u001b[0m   \u001b[0;32mdef\u001b[0m \u001b[0m_call_tf_sessionprun\u001b[0m\u001b[0;34m(\u001b[0m\u001b[0mself\u001b[0m\u001b[0;34m,\u001b[0m \u001b[0mhandle\u001b[0m\u001b[0;34m,\u001b[0m \u001b[0mfeed_dict\u001b[0m\u001b[0;34m,\u001b[0m \u001b[0mfetch_list\u001b[0m\u001b[0;34m)\u001b[0m\u001b[0;34m:\u001b[0m\u001b[0;34m\u001b[0m\u001b[0m\n",
            "\u001b[0;31mKeyboardInterrupt\u001b[0m: "
          ]
        }
      ]
    },
    {
      "metadata": {
        "id": "6m1kK_fDpXZS",
        "colab_type": "code",
        "colab": {
          "base_uri": "https://localhost:8080/",
          "height": 34
        },
        "outputId": "02b8df95-f9e3-4120-c331-5e60ebc3c4c1"
      },
      "cell_type": "code",
      "source": [
        "!ls"
      ],
      "execution_count": 105,
      "outputs": [
        {
          "output_type": "stream",
          "text": [
            "datalab  sample_data\r\n"
          ],
          "name": "stdout"
        }
      ]
    }
  ]
}